{
 "cells": [
  {
   "cell_type": "code",
   "execution_count": 140,
   "metadata": {
    "id": "igMyGnjE9hEp"
   },
   "outputs": [],
   "source": [
    "import csv\n",
    "\n",
    "import numpy as np\n",
    "import tensorflow as tf\n",
    "from sklearn.model_selection import train_test_split\n",
    "from keras.models import load_model\n",
    "\n",
    "RANDOM_SEED = 42"
   ]
  },
  {
   "cell_type": "markdown",
   "metadata": {
    "id": "t2HDvhIu9hEr"
   },
   "source": [
    "# Specify each path"
   ]
  },
  {
   "cell_type": "code",
   "execution_count": 141,
   "metadata": {
    "id": "9NvZP2Zn9hEy"
   },
   "outputs": [],
   "source": [
    "dataset = 'model/keypoint_classifier/keypoint.csv'\n",
    "model_save_path = 'model/keypoint_classifier/keypoint_classifier.keras'\n",
    "tflite_save_path = 'model/keypoint_classifier/keypoint_classifier.tflite'"
   ]
  },
  {
   "cell_type": "markdown",
   "metadata": {
    "id": "s5oMH7x19hEz"
   },
   "source": [
    "# Set number of classes"
   ]
  },
  {
   "cell_type": "code",
   "execution_count": 142,
   "metadata": {
    "id": "du4kodXL9hEz"
   },
   "outputs": [],
   "source": [
    "NUM_CLASSES = 11"
   ]
  },
  {
   "cell_type": "markdown",
   "metadata": {
    "id": "XjnL0uso9hEz"
   },
   "source": [
    "# Dataset reading"
   ]
  },
  {
   "cell_type": "code",
   "execution_count": 143,
   "metadata": {
    "id": "QT5ZqtEz9hE0"
   },
   "outputs": [],
   "source": [
    "X_dataset = np.loadtxt(dataset, delimiter=',', dtype='float32', usecols=list(range(1, (21 * 2) + 1)))"
   ]
  },
  {
   "cell_type": "code",
   "execution_count": 144,
   "metadata": {
    "id": "QmoKFsp49hE0"
   },
   "outputs": [],
   "source": [
    "y_dataset = np.loadtxt(dataset, delimiter=',', dtype='int32', usecols=(0))"
   ]
  },
  {
   "cell_type": "code",
   "execution_count": 145,
   "metadata": {
    "id": "xQU7JTZ_9hE0"
   },
   "outputs": [],
   "source": [
    "X_train, X_test, y_train, y_test = train_test_split(X_dataset, y_dataset, train_size=0.75, random_state=RANDOM_SEED)"
   ]
  },
  {
   "cell_type": "markdown",
   "metadata": {
    "id": "mxK_lETT9hE0"
   },
   "source": [
    "# Model building"
   ]
  },
  {
   "cell_type": "code",
   "execution_count": 146,
   "metadata": {
    "id": "vHBmUf1t9hE1"
   },
   "outputs": [],
   "source": [
    "model = tf.keras.models.Sequential([\n",
    "    tf.keras.layers.Input((21 * 2, )),\n",
    "    tf.keras.layers.Dropout(0.2),\n",
    "    tf.keras.layers.Dense(20, activation='relu'),\n",
    "    tf.keras.layers.Dropout(0.4),\n",
    "    tf.keras.layers.Dense(10, activation='relu'),\n",
    "    tf.keras.layers.Dense(NUM_CLASSES, activation='softmax')\n",
    "])"
   ]
  },
  {
   "cell_type": "code",
   "execution_count": 147,
   "metadata": {
    "colab": {
     "base_uri": "https://localhost:8080/"
    },
    "id": "ypqky9tc9hE1",
    "outputId": "5db082bb-30e3-4110-bf63-a1ee777ecd46"
   },
   "outputs": [
    {
     "name": "stdout",
     "output_type": "stream",
     "text": [
      "Model: \"sequential_7\"\n",
      "_________________________________________________________________\n",
      " Layer (type)                Output Shape              Param #   \n",
      "=================================================================\n",
      " dropout_14 (Dropout)        (None, 42)                0         \n",
      "                                                                 \n",
      " dense_21 (Dense)            (None, 20)                860       \n",
      "                                                                 \n",
      " dropout_15 (Dropout)        (None, 20)                0         \n",
      "                                                                 \n",
      " dense_22 (Dense)            (None, 10)                210       \n",
      "                                                                 \n",
      " dense_23 (Dense)            (None, 11)                121       \n",
      "                                                                 \n",
      "=================================================================\n",
      "Total params: 1191 (4.65 KB)\n",
      "Trainable params: 1191 (4.65 KB)\n",
      "Non-trainable params: 0 (0.00 Byte)\n",
      "_________________________________________________________________\n"
     ]
    }
   ],
   "source": [
    "model.summary()  # tf.keras.utils.plot_model(model, show_shapes=True)"
   ]
  },
  {
   "cell_type": "code",
   "execution_count": 148,
   "metadata": {
    "id": "MbMjOflQ9hE1"
   },
   "outputs": [],
   "source": [
    "# Model checkpoint callback\n",
    "cp_callback = tf.keras.callbacks.ModelCheckpoint(\n",
    "    model_save_path, verbose=1, save_weights_only=False)\n",
    "# Callback for early stopping\n",
    "es_callback = tf.keras.callbacks.EarlyStopping(patience=20, verbose=1)"
   ]
  },
  {
   "cell_type": "code",
   "execution_count": 149,
   "metadata": {
    "id": "c3Dac0M_9hE2"
   },
   "outputs": [],
   "source": [
    "# Model compilation\n",
    "model.compile(\n",
    "    optimizer='adam',\n",
    "    loss='sparse_categorical_crossentropy',\n",
    "    metrics=['accuracy']\n",
    ")"
   ]
  },
  {
   "cell_type": "markdown",
   "metadata": {
    "id": "7XI0j1Iu9hE2"
   },
   "source": [
    "# Model training"
   ]
  },
  {
   "cell_type": "code",
   "execution_count": 150,
   "metadata": {
    "colab": {
     "base_uri": "https://localhost:8080/"
    },
    "id": "WirBl-JE9hE3",
    "outputId": "71b30ca2-8294-4d9d-8aa2-800d90d399de",
    "scrolled": true
   },
   "outputs": [
    {
     "name": "stdout",
     "output_type": "stream",
     "text": [
      "Epoch 1/1000\n",
      "44/44 [==============================] - ETA: 0s - loss: 2.3607 - accuracy: 0.1368\n",
      "Epoch 1: saving model to model/keypoint_classifier\\keypoint_classifier.keras\n",
      "44/44 [==============================] - 5s 27ms/step - loss: 2.3607 - accuracy: 0.1368 - val_loss: 2.2475 - val_accuracy: 0.2220\n",
      "Epoch 2/1000\n",
      "44/44 [==============================] - ETA: 0s - loss: 2.2125 - accuracy: 0.2076\n",
      "Epoch 2: saving model to model/keypoint_classifier\\keypoint_classifier.keras\n",
      "44/44 [==============================] - 1s 16ms/step - loss: 2.2125 - accuracy: 0.2076 - val_loss: 2.0766 - val_accuracy: 0.2332\n",
      "Epoch 3/1000\n",
      "43/44 [============================>.] - ETA: 0s - loss: 2.1085 - accuracy: 0.2329\n",
      "Epoch 3: saving model to model/keypoint_classifier\\keypoint_classifier.keras\n",
      "44/44 [==============================] - 1s 12ms/step - loss: 2.1070 - accuracy: 0.2339 - val_loss: 1.9927 - val_accuracy: 0.2595\n",
      "Epoch 4/1000\n",
      "44/44 [==============================] - ETA: 0s - loss: 2.0481 - accuracy: 0.2543\n",
      "Epoch 4: saving model to model/keypoint_classifier\\keypoint_classifier.keras\n",
      "44/44 [==============================] - 0s 10ms/step - loss: 2.0481 - accuracy: 0.2543 - val_loss: 1.9178 - val_accuracy: 0.3067\n",
      "Epoch 5/1000\n",
      "33/44 [=====================>........] - ETA: 0s - loss: 1.9819 - accuracy: 0.2715\n",
      "Epoch 5: saving model to model/keypoint_classifier\\keypoint_classifier.keras\n",
      "44/44 [==============================] - 0s 11ms/step - loss: 1.9836 - accuracy: 0.2706 - val_loss: 1.8472 - val_accuracy: 0.3190\n",
      "Epoch 6/1000\n",
      "38/44 [========================>.....] - ETA: 0s - loss: 1.9334 - accuracy: 0.2864\n",
      "Epoch 6: saving model to model/keypoint_classifier\\keypoint_classifier.keras\n",
      "44/44 [==============================] - 1s 13ms/step - loss: 1.9264 - accuracy: 0.2867 - val_loss: 1.7718 - val_accuracy: 0.3560\n",
      "Epoch 7/1000\n",
      "44/44 [==============================] - ETA: 0s - loss: 1.8600 - accuracy: 0.3058\n",
      "Epoch 7: saving model to model/keypoint_classifier\\keypoint_classifier.keras\n",
      "44/44 [==============================] - 1s 14ms/step - loss: 1.8600 - accuracy: 0.3058 - val_loss: 1.6965 - val_accuracy: 0.3694\n",
      "Epoch 8/1000\n",
      "44/44 [==============================] - ETA: 0s - loss: 1.8052 - accuracy: 0.3165\n",
      "Epoch 8: saving model to model/keypoint_classifier\\keypoint_classifier.keras\n",
      "44/44 [==============================] - 1s 16ms/step - loss: 1.8052 - accuracy: 0.3165 - val_loss: 1.6212 - val_accuracy: 0.4225\n",
      "Epoch 9/1000\n",
      "44/44 [==============================] - ETA: 0s - loss: 1.7375 - accuracy: 0.3389\n",
      "Epoch 9: saving model to model/keypoint_classifier\\keypoint_classifier.keras\n",
      "44/44 [==============================] - 1s 12ms/step - loss: 1.7375 - accuracy: 0.3389 - val_loss: 1.5465 - val_accuracy: 0.4547\n",
      "Epoch 10/1000\n",
      "36/44 [=======================>......] - ETA: 0s - loss: 1.6951 - accuracy: 0.3672\n",
      "Epoch 10: saving model to model/keypoint_classifier\\keypoint_classifier.keras\n",
      "44/44 [==============================] - 0s 10ms/step - loss: 1.6893 - accuracy: 0.3687 - val_loss: 1.4741 - val_accuracy: 0.4922\n",
      "Epoch 11/1000\n",
      "30/44 [===================>..........] - ETA: 0s - loss: 1.6420 - accuracy: 0.3852\n",
      "Epoch 11: saving model to model/keypoint_classifier\\keypoint_classifier.keras\n",
      "44/44 [==============================] - 0s 11ms/step - loss: 1.6433 - accuracy: 0.3795 - val_loss: 1.4123 - val_accuracy: 0.5088\n",
      "Epoch 12/1000\n",
      "40/44 [==========================>...] - ETA: 0s - loss: 1.5990 - accuracy: 0.3924\n",
      "Epoch 12: saving model to model/keypoint_classifier\\keypoint_classifier.keras\n",
      "44/44 [==============================] - 1s 13ms/step - loss: 1.6018 - accuracy: 0.3925 - val_loss: 1.3501 - val_accuracy: 0.5668\n",
      "Epoch 13/1000\n",
      "35/44 [======================>.......] - ETA: 0s - loss: 1.5635 - accuracy: 0.4196\n",
      "Epoch 13: saving model to model/keypoint_classifier\\keypoint_classifier.keras\n",
      "44/44 [==============================] - 0s 7ms/step - loss: 1.5613 - accuracy: 0.4202 - val_loss: 1.2961 - val_accuracy: 0.6370\n",
      "Epoch 14/1000\n",
      "40/44 [==========================>...] - ETA: 0s - loss: 1.5094 - accuracy: 0.4389\n",
      "Epoch 14: saving model to model/keypoint_classifier\\keypoint_classifier.keras\n",
      "44/44 [==============================] - 0s 11ms/step - loss: 1.5102 - accuracy: 0.4379 - val_loss: 1.2348 - val_accuracy: 0.6928\n",
      "Epoch 15/1000\n",
      "37/44 [========================>.....] - ETA: 0s - loss: 1.4891 - accuracy: 0.4561\n",
      "Epoch 15: saving model to model/keypoint_classifier\\keypoint_classifier.keras\n",
      "44/44 [==============================] - 0s 10ms/step - loss: 1.4886 - accuracy: 0.4549 - val_loss: 1.1829 - val_accuracy: 0.7180\n",
      "Epoch 16/1000\n",
      "44/44 [==============================] - ETA: 0s - loss: 1.4615 - accuracy: 0.4621\n",
      "Epoch 16: saving model to model/keypoint_classifier\\keypoint_classifier.keras\n",
      "44/44 [==============================] - 0s 9ms/step - loss: 1.4615 - accuracy: 0.4621 - val_loss: 1.1375 - val_accuracy: 0.7217\n",
      "Epoch 17/1000\n",
      "37/44 [========================>.....] - ETA: 0s - loss: 1.4395 - accuracy: 0.4616\n",
      "Epoch 17: saving model to model/keypoint_classifier\\keypoint_classifier.keras\n",
      "44/44 [==============================] - 0s 10ms/step - loss: 1.4350 - accuracy: 0.4637 - val_loss: 1.1023 - val_accuracy: 0.7180\n",
      "Epoch 18/1000\n",
      "40/44 [==========================>...] - ETA: 0s - loss: 1.3955 - accuracy: 0.4842\n",
      "Epoch 18: saving model to model/keypoint_classifier\\keypoint_classifier.keras\n",
      "44/44 [==============================] - 0s 8ms/step - loss: 1.4015 - accuracy: 0.4816 - val_loss: 1.0581 - val_accuracy: 0.7276\n",
      "Epoch 19/1000\n",
      "36/44 [=======================>......] - ETA: 0s - loss: 1.3839 - accuracy: 0.4920\n",
      "Epoch 19: saving model to model/keypoint_classifier\\keypoint_classifier.keras\n",
      "44/44 [==============================] - 0s 8ms/step - loss: 1.3870 - accuracy: 0.4880 - val_loss: 1.0234 - val_accuracy: 0.7373\n",
      "Epoch 20/1000\n",
      "44/44 [==============================] - ETA: 0s - loss: 1.3628 - accuracy: 0.4912\n",
      "Epoch 20: saving model to model/keypoint_classifier\\keypoint_classifier.keras\n",
      "44/44 [==============================] - 1s 17ms/step - loss: 1.3628 - accuracy: 0.4912 - val_loss: 0.9991 - val_accuracy: 0.7448\n",
      "Epoch 21/1000\n",
      "38/44 [========================>.....] - ETA: 0s - loss: 1.3191 - accuracy: 0.5084\n",
      "Epoch 21: saving model to model/keypoint_classifier\\keypoint_classifier.keras\n",
      "44/44 [==============================] - 0s 8ms/step - loss: 1.3229 - accuracy: 0.5070 - val_loss: 0.9684 - val_accuracy: 0.7485\n",
      "Epoch 22/1000\n",
      "39/44 [=========================>....] - ETA: 0s - loss: 1.3401 - accuracy: 0.4990\n",
      "Epoch 22: saving model to model/keypoint_classifier\\keypoint_classifier.keras\n",
      "44/44 [==============================] - 1s 14ms/step - loss: 1.3380 - accuracy: 0.4964 - val_loss: 0.9562 - val_accuracy: 0.7485\n",
      "Epoch 23/1000\n",
      "44/44 [==============================] - ETA: 0s - loss: 1.3181 - accuracy: 0.5055\n",
      "Epoch 23: saving model to model/keypoint_classifier\\keypoint_classifier.keras\n",
      "44/44 [==============================] - 1s 19ms/step - loss: 1.3181 - accuracy: 0.5055 - val_loss: 0.9289 - val_accuracy: 0.7571\n",
      "Epoch 24/1000\n",
      "43/44 [============================>.] - ETA: 0s - loss: 1.3120 - accuracy: 0.5196\n",
      "Epoch 24: saving model to model/keypoint_classifier\\keypoint_classifier.keras\n",
      "44/44 [==============================] - 1s 16ms/step - loss: 1.3114 - accuracy: 0.5200 - val_loss: 0.9098 - val_accuracy: 0.7737\n",
      "Epoch 25/1000\n",
      "38/44 [========================>.....] - ETA: 0s - loss: 1.2813 - accuracy: 0.5257\n",
      "Epoch 25: saving model to model/keypoint_classifier\\keypoint_classifier.keras\n",
      "44/44 [==============================] - 1s 13ms/step - loss: 1.2831 - accuracy: 0.5234 - val_loss: 0.8893 - val_accuracy: 0.7646\n",
      "Epoch 26/1000\n",
      "43/44 [============================>.] - ETA: 0s - loss: 1.2956 - accuracy: 0.5249\n",
      "Epoch 26: saving model to model/keypoint_classifier\\keypoint_classifier.keras\n",
      "44/44 [==============================] - 1s 14ms/step - loss: 1.2976 - accuracy: 0.5243 - val_loss: 0.8668 - val_accuracy: 0.7812\n",
      "Epoch 27/1000\n",
      "32/44 [====================>.........] - ETA: 0s - loss: 1.2619 - accuracy: 0.5403\n",
      "Epoch 27: saving model to model/keypoint_classifier\\keypoint_classifier.keras\n",
      "44/44 [==============================] - 2s 35ms/step - loss: 1.2568 - accuracy: 0.5399 - val_loss: 0.8555 - val_accuracy: 0.7887\n",
      "Epoch 28/1000\n",
      "44/44 [==============================] - ETA: 0s - loss: 1.2511 - accuracy: 0.5352\n",
      "Epoch 28: saving model to model/keypoint_classifier\\keypoint_classifier.keras\n",
      "44/44 [==============================] - 1s 13ms/step - loss: 1.2511 - accuracy: 0.5352 - val_loss: 0.8387 - val_accuracy: 0.7818\n",
      "Epoch 29/1000\n",
      "38/44 [========================>.....] - ETA: 0s - loss: 1.2632 - accuracy: 0.5376\n",
      "Epoch 29: saving model to model/keypoint_classifier\\keypoint_classifier.keras\n",
      "44/44 [==============================] - 0s 10ms/step - loss: 1.2622 - accuracy: 0.5377 - val_loss: 0.8354 - val_accuracy: 0.7796\n",
      "Epoch 30/1000\n",
      "41/44 [==========================>...] - ETA: 0s - loss: 1.2398 - accuracy: 0.5362\n",
      "Epoch 30: saving model to model/keypoint_classifier\\keypoint_classifier.keras\n",
      "44/44 [==============================] - 0s 7ms/step - loss: 1.2422 - accuracy: 0.5358 - val_loss: 0.8136 - val_accuracy: 0.7839\n",
      "Epoch 31/1000\n",
      "41/44 [==========================>...] - ETA: 0s - loss: 1.2331 - accuracy: 0.5427\n",
      "Epoch 31: saving model to model/keypoint_classifier\\keypoint_classifier.keras\n",
      "44/44 [==============================] - 1s 23ms/step - loss: 1.2297 - accuracy: 0.5440 - val_loss: 0.8026 - val_accuracy: 0.7936\n",
      "Epoch 32/1000\n",
      "29/44 [==================>...........] - ETA: 0s - loss: 1.2266 - accuracy: 0.5434\n",
      "Epoch 32: saving model to model/keypoint_classifier\\keypoint_classifier.keras\n",
      "44/44 [==============================] - 1s 34ms/step - loss: 1.2264 - accuracy: 0.5454 - val_loss: 0.7976 - val_accuracy: 0.8021\n",
      "Epoch 33/1000\n",
      "44/44 [==============================] - ETA: 0s - loss: 1.2003 - accuracy: 0.5522\n",
      "Epoch 33: saving model to model/keypoint_classifier\\keypoint_classifier.keras\n",
      "44/44 [==============================] - 1s 18ms/step - loss: 1.2003 - accuracy: 0.5522 - val_loss: 0.7793 - val_accuracy: 0.8054\n",
      "Epoch 34/1000\n",
      "40/44 [==========================>...] - ETA: 0s - loss: 1.2354 - accuracy: 0.5428\n",
      "Epoch 34: saving model to model/keypoint_classifier\\keypoint_classifier.keras\n",
      "44/44 [==============================] - 1s 16ms/step - loss: 1.2302 - accuracy: 0.5436 - val_loss: 0.7799 - val_accuracy: 0.8070\n",
      "Epoch 35/1000\n",
      "42/44 [===========================>..] - ETA: 0s - loss: 1.1750 - accuracy: 0.5698\n",
      "Epoch 35: saving model to model/keypoint_classifier\\keypoint_classifier.keras\n",
      "44/44 [==============================] - 1s 12ms/step - loss: 1.1796 - accuracy: 0.5672 - val_loss: 0.7585 - val_accuracy: 0.8059\n",
      "Epoch 36/1000\n",
      "44/44 [==============================] - ETA: 0s - loss: 1.1971 - accuracy: 0.5556\n",
      "Epoch 36: saving model to model/keypoint_classifier\\keypoint_classifier.keras\n",
      "44/44 [==============================] - 1s 14ms/step - loss: 1.1971 - accuracy: 0.5556 - val_loss: 0.7534 - val_accuracy: 0.8123\n",
      "Epoch 37/1000\n",
      "43/44 [============================>.] - ETA: 0s - loss: 1.1910 - accuracy: 0.5667\n",
      "Epoch 37: saving model to model/keypoint_classifier\\keypoint_classifier.keras\n",
      "44/44 [==============================] - 1s 15ms/step - loss: 1.1917 - accuracy: 0.5667 - val_loss: 0.7459 - val_accuracy: 0.8118\n",
      "Epoch 38/1000\n",
      "37/44 [========================>.....] - ETA: 0s - loss: 1.1811 - accuracy: 0.5661\n",
      "Epoch 38: saving model to model/keypoint_classifier\\keypoint_classifier.keras\n",
      "44/44 [==============================] - 1s 15ms/step - loss: 1.1736 - accuracy: 0.5669 - val_loss: 0.7408 - val_accuracy: 0.8193\n",
      "Epoch 39/1000\n",
      "42/44 [===========================>..] - ETA: 0s - loss: 1.1764 - accuracy: 0.5629\n",
      "Epoch 39: saving model to model/keypoint_classifier\\keypoint_classifier.keras\n",
      "44/44 [==============================] - 1s 15ms/step - loss: 1.1767 - accuracy: 0.5637 - val_loss: 0.7369 - val_accuracy: 0.8231\n",
      "Epoch 40/1000\n",
      "41/44 [==========================>...] - ETA: 0s - loss: 1.1635 - accuracy: 0.5772\n",
      "Epoch 40: saving model to model/keypoint_classifier\\keypoint_classifier.keras\n",
      "44/44 [==============================] - 0s 11ms/step - loss: 1.1581 - accuracy: 0.5781 - val_loss: 0.7188 - val_accuracy: 0.8220\n",
      "Epoch 41/1000\n",
      "42/44 [===========================>..] - ETA: 0s - loss: 1.1566 - accuracy: 0.5826\n",
      "Epoch 41: saving model to model/keypoint_classifier\\keypoint_classifier.keras\n",
      "44/44 [==============================] - 0s 10ms/step - loss: 1.1600 - accuracy: 0.5812 - val_loss: 0.7101 - val_accuracy: 0.8220\n",
      "Epoch 42/1000\n",
      "38/44 [========================>.....] - ETA: 0s - loss: 1.1705 - accuracy: 0.5734\n",
      "Epoch 42: saving model to model/keypoint_classifier\\keypoint_classifier.keras\n",
      "44/44 [==============================] - 0s 8ms/step - loss: 1.1701 - accuracy: 0.5717 - val_loss: 0.7246 - val_accuracy: 0.8220\n",
      "Epoch 43/1000\n",
      "42/44 [===========================>..] - ETA: 0s - loss: 1.1554 - accuracy: 0.5794\n",
      "Epoch 43: saving model to model/keypoint_classifier\\keypoint_classifier.keras\n",
      "44/44 [==============================] - 0s 9ms/step - loss: 1.1557 - accuracy: 0.5781 - val_loss: 0.7130 - val_accuracy: 0.8204\n",
      "Epoch 44/1000\n",
      "41/44 [==========================>...] - ETA: 0s - loss: 1.1661 - accuracy: 0.5673\n",
      "Epoch 44: saving model to model/keypoint_classifier\\keypoint_classifier.keras\n",
      "44/44 [==============================] - 0s 8ms/step - loss: 1.1652 - accuracy: 0.5667 - val_loss: 0.7155 - val_accuracy: 0.8231\n",
      "Epoch 45/1000\n",
      "36/44 [=======================>......] - ETA: 0s - loss: 1.1572 - accuracy: 0.5783\n",
      "Epoch 45: saving model to model/keypoint_classifier\\keypoint_classifier.keras\n",
      "44/44 [==============================] - 0s 9ms/step - loss: 1.1553 - accuracy: 0.5801 - val_loss: 0.7062 - val_accuracy: 0.8220\n",
      "Epoch 46/1000\n",
      "37/44 [========================>.....] - ETA: 0s - loss: 1.1444 - accuracy: 0.5826\n",
      "Epoch 46: saving model to model/keypoint_classifier\\keypoint_classifier.keras\n",
      "44/44 [==============================] - 0s 11ms/step - loss: 1.1361 - accuracy: 0.5833 - val_loss: 0.7059 - val_accuracy: 0.8247\n",
      "Epoch 47/1000\n",
      "40/44 [==========================>...] - ETA: 0s - loss: 1.1396 - accuracy: 0.5801\n",
      "Epoch 47: saving model to model/keypoint_classifier\\keypoint_classifier.keras\n",
      "44/44 [==============================] - 0s 10ms/step - loss: 1.1398 - accuracy: 0.5808 - val_loss: 0.6884 - val_accuracy: 0.8252\n",
      "Epoch 48/1000\n",
      "40/44 [==========================>...] - ETA: 0s - loss: 1.1366 - accuracy: 0.5768\n",
      "Epoch 48: saving model to model/keypoint_classifier\\keypoint_classifier.keras\n",
      "44/44 [==============================] - 0s 8ms/step - loss: 1.1342 - accuracy: 0.5798 - val_loss: 0.6836 - val_accuracy: 0.8263\n",
      "Epoch 49/1000\n",
      "35/44 [======================>.......] - ETA: 0s - loss: 1.1344 - accuracy: 0.5788\n",
      "Epoch 49: saving model to model/keypoint_classifier\\keypoint_classifier.keras\n",
      "44/44 [==============================] - 0s 9ms/step - loss: 1.1383 - accuracy: 0.5785 - val_loss: 0.6827 - val_accuracy: 0.8231\n",
      "Epoch 50/1000\n",
      "38/44 [========================>.....] - ETA: 0s - loss: 1.1274 - accuracy: 0.5907\n",
      "Epoch 50: saving model to model/keypoint_classifier\\keypoint_classifier.keras\n",
      "44/44 [==============================] - 1s 14ms/step - loss: 1.1193 - accuracy: 0.5930 - val_loss: 0.6852 - val_accuracy: 0.8209\n",
      "Epoch 51/1000\n",
      "42/44 [===========================>..] - ETA: 0s - loss: 1.1287 - accuracy: 0.6008\n",
      "Epoch 51: saving model to model/keypoint_classifier\\keypoint_classifier.keras\n",
      "44/44 [==============================] - 1s 11ms/step - loss: 1.1258 - accuracy: 0.6018 - val_loss: 0.6739 - val_accuracy: 0.8241\n",
      "Epoch 52/1000\n",
      "40/44 [==========================>...] - ETA: 0s - loss: 1.1045 - accuracy: 0.6010\n",
      "Epoch 52: saving model to model/keypoint_classifier\\keypoint_classifier.keras\n",
      "44/44 [==============================] - 1s 14ms/step - loss: 1.1101 - accuracy: 0.5985 - val_loss: 0.6692 - val_accuracy: 0.8193\n",
      "Epoch 53/1000\n",
      "33/44 [=====================>........] - ETA: 0s - loss: 1.0812 - accuracy: 0.6070\n",
      "Epoch 53: saving model to model/keypoint_classifier\\keypoint_classifier.keras\n",
      "44/44 [==============================] - 0s 10ms/step - loss: 1.0947 - accuracy: 0.6014 - val_loss: 0.6637 - val_accuracy: 0.8268\n",
      "Epoch 54/1000\n",
      "44/44 [==============================] - ETA: 0s - loss: 1.0941 - accuracy: 0.6053\n",
      "Epoch 54: saving model to model/keypoint_classifier\\keypoint_classifier.keras\n",
      "44/44 [==============================] - 1s 11ms/step - loss: 1.0941 - accuracy: 0.6053 - val_loss: 0.6626 - val_accuracy: 0.8290\n",
      "Epoch 55/1000\n",
      "34/44 [======================>.......] - ETA: 0s - loss: 1.0930 - accuracy: 0.6078\n",
      "Epoch 55: saving model to model/keypoint_classifier\\keypoint_classifier.keras\n",
      "44/44 [==============================] - 0s 11ms/step - loss: 1.0957 - accuracy: 0.6060 - val_loss: 0.6610 - val_accuracy: 0.8284\n",
      "Epoch 56/1000\n",
      "43/44 [============================>.] - ETA: 0s - loss: 1.0767 - accuracy: 0.6076\n",
      "Epoch 56: saving model to model/keypoint_classifier\\keypoint_classifier.keras\n",
      "44/44 [==============================] - 1s 14ms/step - loss: 1.0770 - accuracy: 0.6077 - val_loss: 0.6543 - val_accuracy: 0.8257\n",
      "Epoch 57/1000\n",
      "44/44 [==============================] - ETA: 0s - loss: 1.1148 - accuracy: 0.5966\n",
      "Epoch 57: saving model to model/keypoint_classifier\\keypoint_classifier.keras\n",
      "44/44 [==============================] - 0s 9ms/step - loss: 1.1148 - accuracy: 0.5966 - val_loss: 0.6494 - val_accuracy: 0.8247\n",
      "Epoch 58/1000\n",
      "42/44 [===========================>..] - ETA: 0s - loss: 1.1182 - accuracy: 0.5941\n",
      "Epoch 58: saving model to model/keypoint_classifier\\keypoint_classifier.keras\n",
      "44/44 [==============================] - 1s 14ms/step - loss: 1.1147 - accuracy: 0.5955 - val_loss: 0.6535 - val_accuracy: 0.8279\n",
      "Epoch 59/1000\n",
      "31/44 [====================>.........] - ETA: 0s - loss: 1.0769 - accuracy: 0.6124\n",
      "Epoch 59: saving model to model/keypoint_classifier\\keypoint_classifier.keras\n",
      "44/44 [==============================] - 0s 9ms/step - loss: 1.0822 - accuracy: 0.6105 - val_loss: 0.6532 - val_accuracy: 0.8268\n",
      "Epoch 60/1000\n",
      "36/44 [=======================>......] - ETA: 0s - loss: 1.0665 - accuracy: 0.6133\n",
      "Epoch 60: saving model to model/keypoint_classifier\\keypoint_classifier.keras\n",
      "44/44 [==============================] - 1s 12ms/step - loss: 1.0732 - accuracy: 0.6085 - val_loss: 0.6361 - val_accuracy: 0.8359\n",
      "Epoch 61/1000\n",
      "40/44 [==========================>...] - ETA: 0s - loss: 1.0823 - accuracy: 0.6111\n",
      "Epoch 61: saving model to model/keypoint_classifier\\keypoint_classifier.keras\n",
      "44/44 [==============================] - 0s 9ms/step - loss: 1.0854 - accuracy: 0.6091 - val_loss: 0.6371 - val_accuracy: 0.8322\n",
      "Epoch 62/1000\n",
      "44/44 [==============================] - ETA: 0s - loss: 1.0908 - accuracy: 0.5975\n",
      "Epoch 62: saving model to model/keypoint_classifier\\keypoint_classifier.keras\n",
      "44/44 [==============================] - 1s 15ms/step - loss: 1.0908 - accuracy: 0.5975 - val_loss: 0.6362 - val_accuracy: 0.8322\n",
      "Epoch 63/1000\n",
      "37/44 [========================>.....] - ETA: 0s - loss: 1.0664 - accuracy: 0.6081\n",
      "Epoch 63: saving model to model/keypoint_classifier\\keypoint_classifier.keras\n",
      "44/44 [==============================] - 1s 14ms/step - loss: 1.0711 - accuracy: 0.6094 - val_loss: 0.6289 - val_accuracy: 0.8332\n",
      "Epoch 64/1000\n",
      "35/44 [======================>.......] - ETA: 0s - loss: 1.0700 - accuracy: 0.6074\n",
      "Epoch 64: saving model to model/keypoint_classifier\\keypoint_classifier.keras\n",
      "44/44 [==============================] - 1s 16ms/step - loss: 1.0693 - accuracy: 0.6103 - val_loss: 0.6365 - val_accuracy: 0.8359\n",
      "Epoch 65/1000\n",
      "37/44 [========================>.....] - ETA: 0s - loss: 1.0599 - accuracy: 0.6180\n",
      "Epoch 65: saving model to model/keypoint_classifier\\keypoint_classifier.keras\n",
      "44/44 [==============================] - 1s 13ms/step - loss: 1.0604 - accuracy: 0.6144 - val_loss: 0.6215 - val_accuracy: 0.8370\n",
      "Epoch 66/1000\n",
      "37/44 [========================>.....] - ETA: 0s - loss: 1.0583 - accuracy: 0.6157\n",
      "Epoch 66: saving model to model/keypoint_classifier\\keypoint_classifier.keras\n",
      "44/44 [==============================] - 1s 13ms/step - loss: 1.0585 - accuracy: 0.6146 - val_loss: 0.6181 - val_accuracy: 0.8418\n",
      "Epoch 67/1000\n",
      "41/44 [==========================>...] - ETA: 0s - loss: 1.0729 - accuracy: 0.6094\n",
      "Epoch 67: saving model to model/keypoint_classifier\\keypoint_classifier.keras\n",
      "44/44 [==============================] - 1s 13ms/step - loss: 1.0736 - accuracy: 0.6100 - val_loss: 0.6169 - val_accuracy: 0.8413\n",
      "Epoch 68/1000\n",
      "44/44 [==============================] - ETA: 0s - loss: 1.0519 - accuracy: 0.6230\n",
      "Epoch 68: saving model to model/keypoint_classifier\\keypoint_classifier.keras\n",
      "44/44 [==============================] - 1s 13ms/step - loss: 1.0519 - accuracy: 0.6230 - val_loss: 0.6259 - val_accuracy: 0.8338\n",
      "Epoch 69/1000\n",
      "44/44 [==============================] - ETA: 0s - loss: 1.0507 - accuracy: 0.6268\n",
      "Epoch 69: saving model to model/keypoint_classifier\\keypoint_classifier.keras\n",
      "44/44 [==============================] - 1s 17ms/step - loss: 1.0507 - accuracy: 0.6268 - val_loss: 0.6113 - val_accuracy: 0.8418\n",
      "Epoch 70/1000\n",
      "41/44 [==========================>...] - ETA: 0s - loss: 1.0509 - accuracy: 0.6191\n",
      "Epoch 70: saving model to model/keypoint_classifier\\keypoint_classifier.keras\n",
      "44/44 [==============================] - 1s 15ms/step - loss: 1.0473 - accuracy: 0.6211 - val_loss: 0.6047 - val_accuracy: 0.8440\n",
      "Epoch 71/1000\n",
      "41/44 [==========================>...] - ETA: 0s - loss: 1.0618 - accuracy: 0.6218\n",
      "Epoch 71: saving model to model/keypoint_classifier\\keypoint_classifier.keras\n",
      "44/44 [==============================] - 1s 14ms/step - loss: 1.0597 - accuracy: 0.6200 - val_loss: 0.6136 - val_accuracy: 0.8391\n",
      "Epoch 72/1000\n",
      "41/44 [==========================>...] - ETA: 0s - loss: 1.0460 - accuracy: 0.6252\n",
      "Epoch 72: saving model to model/keypoint_classifier\\keypoint_classifier.keras\n",
      "44/44 [==============================] - 1s 12ms/step - loss: 1.0415 - accuracy: 0.6254 - val_loss: 0.6047 - val_accuracy: 0.8424\n",
      "Epoch 73/1000\n",
      "44/44 [==============================] - ETA: 0s - loss: 1.0504 - accuracy: 0.6159\n",
      "Epoch 73: saving model to model/keypoint_classifier\\keypoint_classifier.keras\n",
      "44/44 [==============================] - 1s 13ms/step - loss: 1.0504 - accuracy: 0.6159 - val_loss: 0.6041 - val_accuracy: 0.8424\n",
      "Epoch 74/1000\n",
      "38/44 [========================>.....] - ETA: 0s - loss: 1.0356 - accuracy: 0.6190\n",
      "Epoch 74: saving model to model/keypoint_classifier\\keypoint_classifier.keras\n",
      "44/44 [==============================] - 0s 10ms/step - loss: 1.0342 - accuracy: 0.6204 - val_loss: 0.5917 - val_accuracy: 0.8424\n",
      "Epoch 75/1000\n",
      "44/44 [==============================] - ETA: 0s - loss: 1.0391 - accuracy: 0.6304\n",
      "Epoch 75: saving model to model/keypoint_classifier\\keypoint_classifier.keras\n",
      "44/44 [==============================] - 1s 12ms/step - loss: 1.0391 - accuracy: 0.6304 - val_loss: 0.6012 - val_accuracy: 0.8386\n",
      "Epoch 76/1000\n",
      "41/44 [==========================>...] - ETA: 0s - loss: 1.0583 - accuracy: 0.6153\n",
      "Epoch 76: saving model to model/keypoint_classifier\\keypoint_classifier.keras\n",
      "44/44 [==============================] - 1s 13ms/step - loss: 1.0633 - accuracy: 0.6146 - val_loss: 0.5979 - val_accuracy: 0.8402\n",
      "Epoch 77/1000\n",
      "36/44 [=======================>......] - ETA: 0s - loss: 1.0510 - accuracy: 0.6176\n",
      "Epoch 77: saving model to model/keypoint_classifier\\keypoint_classifier.keras\n",
      "44/44 [==============================] - 1s 12ms/step - loss: 1.0529 - accuracy: 0.6178 - val_loss: 0.5992 - val_accuracy: 0.8440\n",
      "Epoch 78/1000\n",
      "39/44 [=========================>....] - ETA: 0s - loss: 1.0250 - accuracy: 0.6290\n",
      "Epoch 78: saving model to model/keypoint_classifier\\keypoint_classifier.keras\n",
      "44/44 [==============================] - 1s 14ms/step - loss: 1.0262 - accuracy: 0.6302 - val_loss: 0.5983 - val_accuracy: 0.8354\n",
      "Epoch 79/1000\n",
      "37/44 [========================>.....] - ETA: 0s - loss: 1.0425 - accuracy: 0.6309\n",
      "Epoch 79: saving model to model/keypoint_classifier\\keypoint_classifier.keras\n",
      "44/44 [==============================] - 1s 14ms/step - loss: 1.0449 - accuracy: 0.6284 - val_loss: 0.5983 - val_accuracy: 0.8397\n",
      "Epoch 80/1000\n",
      "43/44 [============================>.] - ETA: 0s - loss: 1.0546 - accuracy: 0.6226\n",
      "Epoch 80: saving model to model/keypoint_classifier\\keypoint_classifier.keras\n",
      "44/44 [==============================] - 1s 14ms/step - loss: 1.0595 - accuracy: 0.6205 - val_loss: 0.5935 - val_accuracy: 0.8488\n",
      "Epoch 81/1000\n",
      "40/44 [==========================>...] - ETA: 0s - loss: 1.0228 - accuracy: 0.6283\n",
      "Epoch 81: saving model to model/keypoint_classifier\\keypoint_classifier.keras\n",
      "44/44 [==============================] - 1s 15ms/step - loss: 1.0285 - accuracy: 0.6282 - val_loss: 0.5838 - val_accuracy: 0.8450\n",
      "Epoch 82/1000\n",
      "44/44 [==============================] - ETA: 0s - loss: 1.0457 - accuracy: 0.6175\n",
      "Epoch 82: saving model to model/keypoint_classifier\\keypoint_classifier.keras\n",
      "44/44 [==============================] - 1s 14ms/step - loss: 1.0457 - accuracy: 0.6175 - val_loss: 0.5907 - val_accuracy: 0.8381\n",
      "Epoch 83/1000\n",
      "27/44 [=================>............] - ETA: 0s - loss: 1.0360 - accuracy: 0.6288\n",
      "Epoch 83: saving model to model/keypoint_classifier\\keypoint_classifier.keras\n",
      "44/44 [==============================] - 0s 10ms/step - loss: 1.0370 - accuracy: 0.6314 - val_loss: 0.5816 - val_accuracy: 0.8386\n",
      "Epoch 84/1000\n",
      "38/44 [========================>.....] - ETA: 0s - loss: 1.0330 - accuracy: 0.6176\n",
      "Epoch 84: saving model to model/keypoint_classifier\\keypoint_classifier.keras\n",
      "44/44 [==============================] - 1s 14ms/step - loss: 1.0402 - accuracy: 0.6189 - val_loss: 0.5742 - val_accuracy: 0.8418\n",
      "Epoch 85/1000\n",
      "43/44 [============================>.] - ETA: 0s - loss: 1.0391 - accuracy: 0.6185\n",
      "Epoch 85: saving model to model/keypoint_classifier\\keypoint_classifier.keras\n",
      "44/44 [==============================] - 1s 14ms/step - loss: 1.0390 - accuracy: 0.6180 - val_loss: 0.5723 - val_accuracy: 0.8450\n",
      "Epoch 86/1000\n",
      "38/44 [========================>.....] - ETA: 0s - loss: 1.0226 - accuracy: 0.6277\n",
      "Epoch 86: saving model to model/keypoint_classifier\\keypoint_classifier.keras\n",
      "44/44 [==============================] - 1s 13ms/step - loss: 1.0289 - accuracy: 0.6268 - val_loss: 0.5818 - val_accuracy: 0.8461\n",
      "Epoch 87/1000\n",
      "39/44 [=========================>....] - ETA: 0s - loss: 1.0373 - accuracy: 0.6232\n",
      "Epoch 87: saving model to model/keypoint_classifier\\keypoint_classifier.keras\n",
      "44/44 [==============================] - 1s 13ms/step - loss: 1.0260 - accuracy: 0.6275 - val_loss: 0.5794 - val_accuracy: 0.8429\n",
      "Epoch 88/1000\n",
      "36/44 [=======================>......] - ETA: 0s - loss: 1.0125 - accuracy: 0.6324\n",
      "Epoch 88: saving model to model/keypoint_classifier\\keypoint_classifier.keras\n",
      "44/44 [==============================] - 0s 10ms/step - loss: 1.0209 - accuracy: 0.6282 - val_loss: 0.5689 - val_accuracy: 0.8445\n",
      "Epoch 89/1000\n",
      "37/44 [========================>.....] - ETA: 0s - loss: 1.0301 - accuracy: 0.6269\n",
      "Epoch 89: saving model to model/keypoint_classifier\\keypoint_classifier.keras\n",
      "44/44 [==============================] - 0s 11ms/step - loss: 1.0323 - accuracy: 0.6239 - val_loss: 0.5819 - val_accuracy: 0.8488\n",
      "Epoch 90/1000\n",
      "43/44 [============================>.] - ETA: 0s - loss: 1.0461 - accuracy: 0.6265\n",
      "Epoch 90: saving model to model/keypoint_classifier\\keypoint_classifier.keras\n",
      "44/44 [==============================] - 0s 11ms/step - loss: 1.0465 - accuracy: 0.6264 - val_loss: 0.5771 - val_accuracy: 0.8445\n",
      "Epoch 91/1000\n",
      "42/44 [===========================>..] - ETA: 0s - loss: 1.0151 - accuracy: 0.6324\n",
      "Epoch 91: saving model to model/keypoint_classifier\\keypoint_classifier.keras\n",
      "44/44 [==============================] - 1s 13ms/step - loss: 1.0185 - accuracy: 0.6318 - val_loss: 0.5801 - val_accuracy: 0.8466\n",
      "Epoch 92/1000\n",
      "32/44 [====================>.........] - ETA: 0s - loss: 1.0139 - accuracy: 0.6240\n",
      "Epoch 92: saving model to model/keypoint_classifier\\keypoint_classifier.keras\n",
      "44/44 [==============================] - 0s 7ms/step - loss: 1.0187 - accuracy: 0.6232 - val_loss: 0.5824 - val_accuracy: 0.8493\n",
      "Epoch 93/1000\n",
      "37/44 [========================>.....] - ETA: 0s - loss: 1.0143 - accuracy: 0.6389\n",
      "Epoch 93: saving model to model/keypoint_classifier\\keypoint_classifier.keras\n",
      "44/44 [==============================] - 0s 11ms/step - loss: 1.0125 - accuracy: 0.6388 - val_loss: 0.5726 - val_accuracy: 0.8483\n",
      "Epoch 94/1000\n",
      "28/44 [==================>...........] - ETA: 0s - loss: 0.9933 - accuracy: 0.6456\n",
      "Epoch 94: saving model to model/keypoint_classifier\\keypoint_classifier.keras\n",
      "44/44 [==============================] - 0s 7ms/step - loss: 1.0150 - accuracy: 0.6356 - val_loss: 0.5690 - val_accuracy: 0.8477\n",
      "Epoch 95/1000\n",
      "38/44 [========================>.....] - ETA: 0s - loss: 0.9983 - accuracy: 0.6388\n",
      "Epoch 95: saving model to model/keypoint_classifier\\keypoint_classifier.keras\n",
      "44/44 [==============================] - 0s 5ms/step - loss: 1.0038 - accuracy: 0.6356 - val_loss: 0.5648 - val_accuracy: 0.8515\n",
      "Epoch 96/1000\n",
      "25/44 [================>.............] - ETA: 0s - loss: 1.0272 - accuracy: 0.6372\n",
      "Epoch 96: saving model to model/keypoint_classifier\\keypoint_classifier.keras\n",
      "44/44 [==============================] - 0s 7ms/step - loss: 1.0163 - accuracy: 0.6352 - val_loss: 0.5734 - val_accuracy: 0.8445\n",
      "Epoch 97/1000\n",
      "28/44 [==================>...........] - ETA: 0s - loss: 0.9906 - accuracy: 0.6454\n",
      "Epoch 97: saving model to model/keypoint_classifier\\keypoint_classifier.keras\n",
      "44/44 [==============================] - 0s 4ms/step - loss: 1.0143 - accuracy: 0.6364 - val_loss: 0.5736 - val_accuracy: 0.8408\n",
      "Epoch 98/1000\n",
      "28/44 [==================>...........] - ETA: 0s - loss: 1.0101 - accuracy: 0.6323\n",
      "Epoch 98: saving model to model/keypoint_classifier\\keypoint_classifier.keras\n",
      "44/44 [==============================] - 0s 4ms/step - loss: 1.0302 - accuracy: 0.6273 - val_loss: 0.5644 - val_accuracy: 0.8477\n",
      "Epoch 99/1000\n",
      "24/44 [===============>..............] - ETA: 0s - loss: 1.0382 - accuracy: 0.6143\n",
      "Epoch 99: saving model to model/keypoint_classifier\\keypoint_classifier.keras\n",
      "44/44 [==============================] - 0s 4ms/step - loss: 1.0176 - accuracy: 0.6255 - val_loss: 0.5760 - val_accuracy: 0.8472\n",
      "Epoch 100/1000\n",
      "24/44 [===============>..............] - ETA: 0s - loss: 1.0290 - accuracy: 0.6328\n",
      "Epoch 100: saving model to model/keypoint_classifier\\keypoint_classifier.keras\n",
      "44/44 [==============================] - 0s 4ms/step - loss: 0.9982 - accuracy: 0.6422 - val_loss: 0.5732 - val_accuracy: 0.8440\n",
      "Epoch 101/1000\n",
      "28/44 [==================>...........] - ETA: 0s - loss: 1.0400 - accuracy: 0.6242\n",
      "Epoch 101: saving model to model/keypoint_classifier\\keypoint_classifier.keras\n",
      "44/44 [==============================] - 0s 4ms/step - loss: 1.0295 - accuracy: 0.6255 - val_loss: 0.5748 - val_accuracy: 0.8477\n",
      "Epoch 102/1000\n",
      "44/44 [==============================] - ETA: 0s - loss: 1.0156 - accuracy: 0.6322\n",
      "Epoch 102: saving model to model/keypoint_classifier\\keypoint_classifier.keras\n",
      "44/44 [==============================] - 0s 4ms/step - loss: 1.0156 - accuracy: 0.6322 - val_loss: 0.5697 - val_accuracy: 0.8375\n",
      "Epoch 103/1000\n",
      "44/44 [==============================] - ETA: 0s - loss: 0.9964 - accuracy: 0.6452\n",
      "Epoch 103: saving model to model/keypoint_classifier\\keypoint_classifier.keras\n",
      "44/44 [==============================] - 0s 4ms/step - loss: 0.9964 - accuracy: 0.6452 - val_loss: 0.5540 - val_accuracy: 0.8391\n",
      "Epoch 104/1000\n",
      "29/44 [==================>...........] - ETA: 0s - loss: 1.0185 - accuracy: 0.6347\n",
      "Epoch 104: saving model to model/keypoint_classifier\\keypoint_classifier.keras\n",
      "44/44 [==============================] - 0s 4ms/step - loss: 1.0056 - accuracy: 0.6370 - val_loss: 0.5565 - val_accuracy: 0.8440\n",
      "Epoch 105/1000\n",
      "29/44 [==================>...........] - ETA: 0s - loss: 1.0107 - accuracy: 0.6315\n",
      "Epoch 105: saving model to model/keypoint_classifier\\keypoint_classifier.keras\n",
      "44/44 [==============================] - 0s 4ms/step - loss: 1.0050 - accuracy: 0.6334 - val_loss: 0.5575 - val_accuracy: 0.8450\n",
      "Epoch 106/1000\n",
      "24/44 [===============>..............] - ETA: 0s - loss: 1.0065 - accuracy: 0.6380\n",
      "Epoch 106: saving model to model/keypoint_classifier\\keypoint_classifier.keras\n",
      "44/44 [==============================] - 0s 6ms/step - loss: 0.9941 - accuracy: 0.6429 - val_loss: 0.5616 - val_accuracy: 0.8349\n",
      "Epoch 107/1000\n",
      "31/44 [====================>.........] - ETA: 0s - loss: 0.9895 - accuracy: 0.6439\n",
      "Epoch 107: saving model to model/keypoint_classifier\\keypoint_classifier.keras\n",
      "44/44 [==============================] - 0s 4ms/step - loss: 0.9931 - accuracy: 0.6445 - val_loss: 0.5516 - val_accuracy: 0.8483\n",
      "Epoch 108/1000\n",
      "31/44 [====================>.........] - ETA: 0s - loss: 1.0003 - accuracy: 0.6439\n",
      "Epoch 108: saving model to model/keypoint_classifier\\keypoint_classifier.keras\n",
      "44/44 [==============================] - 0s 3ms/step - loss: 1.0018 - accuracy: 0.6391 - val_loss: 0.5505 - val_accuracy: 0.8461\n",
      "Epoch 109/1000\n",
      "31/44 [====================>.........] - ETA: 0s - loss: 0.9946 - accuracy: 0.6366\n",
      "Epoch 109: saving model to model/keypoint_classifier\\keypoint_classifier.keras\n",
      "44/44 [==============================] - 0s 4ms/step - loss: 1.0079 - accuracy: 0.6327 - val_loss: 0.5443 - val_accuracy: 0.8466\n",
      "Epoch 110/1000\n",
      "23/44 [==============>...............] - ETA: 0s - loss: 0.9822 - accuracy: 0.6457\n",
      "Epoch 110: saving model to model/keypoint_classifier\\keypoint_classifier.keras\n",
      "44/44 [==============================] - 0s 4ms/step - loss: 0.9817 - accuracy: 0.6456 - val_loss: 0.5578 - val_accuracy: 0.8456\n",
      "Epoch 111/1000\n",
      "36/44 [=======================>......] - ETA: 0s - loss: 0.9918 - accuracy: 0.6382\n",
      "Epoch 111: saving model to model/keypoint_classifier\\keypoint_classifier.keras\n",
      "44/44 [==============================] - 0s 7ms/step - loss: 0.9872 - accuracy: 0.6402 - val_loss: 0.5522 - val_accuracy: 0.8520\n",
      "Epoch 112/1000\n",
      "44/44 [==============================] - ETA: 0s - loss: 1.0097 - accuracy: 0.6398\n",
      "Epoch 112: saving model to model/keypoint_classifier\\keypoint_classifier.keras\n",
      "44/44 [==============================] - 0s 4ms/step - loss: 1.0097 - accuracy: 0.6398 - val_loss: 0.5508 - val_accuracy: 0.8466\n",
      "Epoch 113/1000\n",
      "26/44 [================>.............] - ETA: 0s - loss: 1.0148 - accuracy: 0.6289\n",
      "Epoch 113: saving model to model/keypoint_classifier\\keypoint_classifier.keras\n",
      "44/44 [==============================] - 0s 4ms/step - loss: 1.0105 - accuracy: 0.6314 - val_loss: 0.5550 - val_accuracy: 0.8520\n",
      "Epoch 114/1000\n",
      "30/44 [===================>..........] - ETA: 0s - loss: 0.9993 - accuracy: 0.6339\n",
      "Epoch 114: saving model to model/keypoint_classifier\\keypoint_classifier.keras\n",
      "44/44 [==============================] - 0s 3ms/step - loss: 0.9893 - accuracy: 0.6370 - val_loss: 0.5459 - val_accuracy: 0.8466\n",
      "Epoch 115/1000\n",
      "23/44 [==============>...............] - ETA: 0s - loss: 0.9817 - accuracy: 0.6420\n",
      "Epoch 115: saving model to model/keypoint_classifier\\keypoint_classifier.keras\n",
      "44/44 [==============================] - 0s 4ms/step - loss: 0.9965 - accuracy: 0.6384 - val_loss: 0.5425 - val_accuracy: 0.8568\n",
      "Epoch 116/1000\n",
      "22/44 [==============>...............] - ETA: 0s - loss: 1.0004 - accuracy: 0.6349\n",
      "Epoch 116: saving model to model/keypoint_classifier\\keypoint_classifier.keras\n",
      "44/44 [==============================] - 0s 4ms/step - loss: 0.9968 - accuracy: 0.6413 - val_loss: 0.5476 - val_accuracy: 0.8488\n",
      "Epoch 117/1000\n",
      "31/44 [====================>.........] - ETA: 0s - loss: 0.9835 - accuracy: 0.6552\n",
      "Epoch 117: saving model to model/keypoint_classifier\\keypoint_classifier.keras\n",
      "44/44 [==============================] - 0s 3ms/step - loss: 0.9867 - accuracy: 0.6524 - val_loss: 0.5396 - val_accuracy: 0.8456\n",
      "Epoch 118/1000\n",
      "30/44 [===================>..........] - ETA: 0s - loss: 0.9855 - accuracy: 0.6474\n",
      "Epoch 118: saving model to model/keypoint_classifier\\keypoint_classifier.keras\n",
      "44/44 [==============================] - 0s 4ms/step - loss: 0.9933 - accuracy: 0.6438 - val_loss: 0.5366 - val_accuracy: 0.8547\n",
      "Epoch 119/1000\n",
      "32/44 [====================>.........] - ETA: 0s - loss: 0.9692 - accuracy: 0.6545\n",
      "Epoch 119: saving model to model/keypoint_classifier\\keypoint_classifier.keras\n",
      "44/44 [==============================] - 0s 3ms/step - loss: 0.9815 - accuracy: 0.6493 - val_loss: 0.5516 - val_accuracy: 0.8456\n",
      "Epoch 120/1000\n",
      "29/44 [==================>...........] - ETA: 0s - loss: 0.9819 - accuracy: 0.6460\n",
      "Epoch 120: saving model to model/keypoint_classifier\\keypoint_classifier.keras\n",
      "44/44 [==============================] - 0s 4ms/step - loss: 0.9729 - accuracy: 0.6491 - val_loss: 0.5400 - val_accuracy: 0.8440\n",
      "Epoch 121/1000\n",
      "30/44 [===================>..........] - ETA: 0s - loss: 0.9979 - accuracy: 0.6445\n",
      "Epoch 121: saving model to model/keypoint_classifier\\keypoint_classifier.keras\n",
      "44/44 [==============================] - 0s 3ms/step - loss: 0.9911 - accuracy: 0.6477 - val_loss: 0.5421 - val_accuracy: 0.8531\n",
      "Epoch 122/1000\n",
      "29/44 [==================>...........] - ETA: 0s - loss: 0.9512 - accuracy: 0.6624\n",
      "Epoch 122: saving model to model/keypoint_classifier\\keypoint_classifier.keras\n",
      "44/44 [==============================] - 0s 4ms/step - loss: 0.9688 - accuracy: 0.6584 - val_loss: 0.5351 - val_accuracy: 0.8542\n",
      "Epoch 123/1000\n",
      "31/44 [====================>.........] - ETA: 0s - loss: 0.9511 - accuracy: 0.6585\n",
      "Epoch 123: saving model to model/keypoint_classifier\\keypoint_classifier.keras\n",
      "44/44 [==============================] - 0s 4ms/step - loss: 0.9642 - accuracy: 0.6529 - val_loss: 0.5289 - val_accuracy: 0.8558\n",
      "Epoch 124/1000\n",
      "29/44 [==================>...........] - ETA: 0s - loss: 0.9747 - accuracy: 0.6430\n",
      "Epoch 124: saving model to model/keypoint_classifier\\keypoint_classifier.keras\n",
      "44/44 [==============================] - 0s 3ms/step - loss: 0.9703 - accuracy: 0.6443 - val_loss: 0.5311 - val_accuracy: 0.8590\n",
      "Epoch 125/1000\n",
      "30/44 [===================>..........] - ETA: 0s - loss: 0.9593 - accuracy: 0.6542\n",
      "Epoch 125: saving model to model/keypoint_classifier\\keypoint_classifier.keras\n",
      "44/44 [==============================] - 0s 3ms/step - loss: 0.9693 - accuracy: 0.6511 - val_loss: 0.5352 - val_accuracy: 0.8488\n",
      "Epoch 126/1000\n",
      "20/44 [============>.................] - ETA: 0s - loss: 0.9732 - accuracy: 0.6574\n",
      "Epoch 126: saving model to model/keypoint_classifier\\keypoint_classifier.keras\n",
      "44/44 [==============================] - 0s 4ms/step - loss: 0.9685 - accuracy: 0.6486 - val_loss: 0.5280 - val_accuracy: 0.8547\n",
      "Epoch 127/1000\n",
      "28/44 [==================>...........] - ETA: 0s - loss: 0.9839 - accuracy: 0.6501\n",
      "Epoch 127: saving model to model/keypoint_classifier\\keypoint_classifier.keras\n",
      "44/44 [==============================] - 0s 3ms/step - loss: 0.9661 - accuracy: 0.6575 - val_loss: 0.5286 - val_accuracy: 0.8558\n",
      "Epoch 128/1000\n",
      "28/44 [==================>...........] - ETA: 0s - loss: 0.9754 - accuracy: 0.6468\n",
      "Epoch 128: saving model to model/keypoint_classifier\\keypoint_classifier.keras\n",
      "44/44 [==============================] - 0s 5ms/step - loss: 0.9835 - accuracy: 0.6452 - val_loss: 0.5203 - val_accuracy: 0.8633\n",
      "Epoch 129/1000\n",
      "32/44 [====================>.........] - ETA: 0s - loss: 0.9902 - accuracy: 0.6516\n",
      "Epoch 129: saving model to model/keypoint_classifier\\keypoint_classifier.keras\n",
      "44/44 [==============================] - 0s 3ms/step - loss: 0.9841 - accuracy: 0.6515 - val_loss: 0.5337 - val_accuracy: 0.8547\n",
      "Epoch 130/1000\n",
      "25/44 [================>.............] - ETA: 0s - loss: 0.9604 - accuracy: 0.6516\n",
      "Epoch 130: saving model to model/keypoint_classifier\\keypoint_classifier.keras\n",
      "44/44 [==============================] - 0s 3ms/step - loss: 0.9613 - accuracy: 0.6556 - val_loss: 0.5313 - val_accuracy: 0.8611\n",
      "Epoch 131/1000\n",
      "29/44 [==================>...........] - ETA: 0s - loss: 0.9480 - accuracy: 0.6584\n",
      "Epoch 131: saving model to model/keypoint_classifier\\keypoint_classifier.keras\n",
      "44/44 [==============================] - 0s 3ms/step - loss: 0.9481 - accuracy: 0.6624 - val_loss: 0.5211 - val_accuracy: 0.8681\n",
      "Epoch 132/1000\n",
      "29/44 [==================>...........] - ETA: 0s - loss: 0.9763 - accuracy: 0.6484\n",
      "Epoch 132: saving model to model/keypoint_classifier\\keypoint_classifier.keras\n",
      "44/44 [==============================] - 0s 4ms/step - loss: 0.9751 - accuracy: 0.6497 - val_loss: 0.5277 - val_accuracy: 0.8638\n",
      "Epoch 133/1000\n",
      "24/44 [===============>..............] - ETA: 0s - loss: 0.9737 - accuracy: 0.6491\n",
      "Epoch 133: saving model to model/keypoint_classifier\\keypoint_classifier.keras\n",
      "44/44 [==============================] - 0s 4ms/step - loss: 0.9803 - accuracy: 0.6538 - val_loss: 0.5221 - val_accuracy: 0.8627\n",
      "Epoch 134/1000\n",
      "34/44 [======================>.......] - ETA: 0s - loss: 0.9867 - accuracy: 0.6491\n",
      "Epoch 134: saving model to model/keypoint_classifier\\keypoint_classifier.keras\n",
      "44/44 [==============================] - 0s 3ms/step - loss: 0.9680 - accuracy: 0.6533 - val_loss: 0.5353 - val_accuracy: 0.8520\n",
      "Epoch 135/1000\n",
      "29/44 [==================>...........] - ETA: 0s - loss: 0.9483 - accuracy: 0.6668\n",
      "Epoch 135: saving model to model/keypoint_classifier\\keypoint_classifier.keras\n",
      "44/44 [==============================] - 0s 3ms/step - loss: 0.9578 - accuracy: 0.6592 - val_loss: 0.5272 - val_accuracy: 0.8697\n",
      "Epoch 136/1000\n",
      "29/44 [==================>...........] - ETA: 0s - loss: 0.9942 - accuracy: 0.6366\n",
      "Epoch 136: saving model to model/keypoint_classifier\\keypoint_classifier.keras\n",
      "44/44 [==============================] - 0s 3ms/step - loss: 0.9834 - accuracy: 0.6386 - val_loss: 0.5359 - val_accuracy: 0.8611\n",
      "Epoch 137/1000\n",
      "34/44 [======================>.......] - ETA: 0s - loss: 0.9384 - accuracy: 0.6634\n",
      "Epoch 137: saving model to model/keypoint_classifier\\keypoint_classifier.keras\n",
      "44/44 [==============================] - 0s 3ms/step - loss: 0.9560 - accuracy: 0.6556 - val_loss: 0.5335 - val_accuracy: 0.8633\n",
      "Epoch 138/1000\n",
      "32/44 [====================>.........] - ETA: 0s - loss: 0.9560 - accuracy: 0.6489\n",
      "Epoch 138: saving model to model/keypoint_classifier\\keypoint_classifier.keras\n",
      "44/44 [==============================] - 0s 3ms/step - loss: 0.9604 - accuracy: 0.6511 - val_loss: 0.5246 - val_accuracy: 0.8686\n",
      "Epoch 139/1000\n",
      "28/44 [==================>...........] - ETA: 0s - loss: 0.9430 - accuracy: 0.6663\n",
      "Epoch 139: saving model to model/keypoint_classifier\\keypoint_classifier.keras\n",
      "44/44 [==============================] - 0s 4ms/step - loss: 0.9487 - accuracy: 0.6643 - val_loss: 0.5235 - val_accuracy: 0.8611\n",
      "Epoch 140/1000\n",
      "22/44 [==============>...............] - ETA: 0s - loss: 0.9173 - accuracy: 0.6786\n",
      "Epoch 140: saving model to model/keypoint_classifier\\keypoint_classifier.keras\n",
      "44/44 [==============================] - 0s 5ms/step - loss: 0.9287 - accuracy: 0.6701 - val_loss: 0.5051 - val_accuracy: 0.8681\n",
      "Epoch 141/1000\n",
      "27/44 [=================>............] - ETA: 0s - loss: 0.9526 - accuracy: 0.6562\n",
      "Epoch 141: saving model to model/keypoint_classifier\\keypoint_classifier.keras\n",
      "44/44 [==============================] - 0s 3ms/step - loss: 0.9633 - accuracy: 0.6545 - val_loss: 0.5293 - val_accuracy: 0.8611\n",
      "Epoch 142/1000\n",
      "28/44 [==================>...........] - ETA: 0s - loss: 0.9599 - accuracy: 0.6549\n",
      "Epoch 142: saving model to model/keypoint_classifier\\keypoint_classifier.keras\n",
      "44/44 [==============================] - 0s 4ms/step - loss: 0.9501 - accuracy: 0.6536 - val_loss: 0.5091 - val_accuracy: 0.8611\n",
      "Epoch 143/1000\n",
      "27/44 [=================>............] - ETA: 0s - loss: 1.0009 - accuracy: 0.6484\n",
      "Epoch 143: saving model to model/keypoint_classifier\\keypoint_classifier.keras\n",
      "44/44 [==============================] - 0s 3ms/step - loss: 0.9759 - accuracy: 0.6529 - val_loss: 0.5353 - val_accuracy: 0.8552\n",
      "Epoch 144/1000\n",
      "22/44 [==============>...............] - ETA: 0s - loss: 0.9469 - accuracy: 0.6548\n",
      "Epoch 144: saving model to model/keypoint_classifier\\keypoint_classifier.keras\n",
      "44/44 [==============================] - 0s 5ms/step - loss: 0.9413 - accuracy: 0.6604 - val_loss: 0.5354 - val_accuracy: 0.8547\n",
      "Epoch 145/1000\n",
      "32/44 [====================>.........] - ETA: 0s - loss: 0.9731 - accuracy: 0.6528\n",
      "Epoch 145: saving model to model/keypoint_classifier\\keypoint_classifier.keras\n",
      "44/44 [==============================] - 0s 3ms/step - loss: 0.9675 - accuracy: 0.6504 - val_loss: 0.5282 - val_accuracy: 0.8633\n",
      "Epoch 146/1000\n",
      "26/44 [================>.............] - ETA: 0s - loss: 0.9274 - accuracy: 0.6692\n",
      "Epoch 146: saving model to model/keypoint_classifier\\keypoint_classifier.keras\n",
      "44/44 [==============================] - 0s 4ms/step - loss: 0.9330 - accuracy: 0.6620 - val_loss: 0.5134 - val_accuracy: 0.8633\n",
      "Epoch 147/1000\n",
      "32/44 [====================>.........] - ETA: 0s - loss: 0.9518 - accuracy: 0.6643\n",
      "Epoch 147: saving model to model/keypoint_classifier\\keypoint_classifier.keras\n",
      "44/44 [==============================] - 0s 4ms/step - loss: 0.9524 - accuracy: 0.6617 - val_loss: 0.5232 - val_accuracy: 0.8568\n",
      "Epoch 148/1000\n",
      "27/44 [=================>............] - ETA: 0s - loss: 0.9498 - accuracy: 0.6589\n",
      "Epoch 148: saving model to model/keypoint_classifier\\keypoint_classifier.keras\n",
      "44/44 [==============================] - 0s 3ms/step - loss: 0.9536 - accuracy: 0.6570 - val_loss: 0.5202 - val_accuracy: 0.8654\n",
      "Epoch 149/1000\n",
      "32/44 [====================>.........] - ETA: 0s - loss: 0.9390 - accuracy: 0.6616\n",
      "Epoch 149: saving model to model/keypoint_classifier\\keypoint_classifier.keras\n",
      "44/44 [==============================] - 0s 3ms/step - loss: 0.9465 - accuracy: 0.6611 - val_loss: 0.5211 - val_accuracy: 0.8584\n",
      "Epoch 150/1000\n",
      "31/44 [====================>.........] - ETA: 0s - loss: 0.9519 - accuracy: 0.6628\n",
      "Epoch 150: saving model to model/keypoint_classifier\\keypoint_classifier.keras\n",
      "44/44 [==============================] - 0s 3ms/step - loss: 0.9611 - accuracy: 0.6590 - val_loss: 0.5189 - val_accuracy: 0.8627\n",
      "Epoch 151/1000\n",
      "31/44 [====================>.........] - ETA: 0s - loss: 0.9500 - accuracy: 0.6590\n",
      "Epoch 151: saving model to model/keypoint_classifier\\keypoint_classifier.keras\n",
      "44/44 [==============================] - 0s 3ms/step - loss: 0.9404 - accuracy: 0.6613 - val_loss: 0.5232 - val_accuracy: 0.8622\n",
      "Epoch 152/1000\n",
      "31/44 [====================>.........] - ETA: 0s - loss: 0.9169 - accuracy: 0.6699\n",
      "Epoch 152: saving model to model/keypoint_classifier\\keypoint_classifier.keras\n",
      "44/44 [==============================] - 0s 3ms/step - loss: 0.9345 - accuracy: 0.6642 - val_loss: 0.5324 - val_accuracy: 0.8601\n",
      "Epoch 153/1000\n",
      "25/44 [================>.............] - ETA: 0s - loss: 0.9173 - accuracy: 0.6656\n",
      "Epoch 153: saving model to model/keypoint_classifier\\keypoint_classifier.keras\n",
      "44/44 [==============================] - 0s 4ms/step - loss: 0.9393 - accuracy: 0.6595 - val_loss: 0.5196 - val_accuracy: 0.8617\n",
      "Epoch 154/1000\n",
      "29/44 [==================>...........] - ETA: 0s - loss: 0.9716 - accuracy: 0.6525\n",
      "Epoch 154: saving model to model/keypoint_classifier\\keypoint_classifier.keras\n",
      "44/44 [==============================] - 0s 3ms/step - loss: 0.9567 - accuracy: 0.6608 - val_loss: 0.5284 - val_accuracy: 0.8670\n",
      "Epoch 155/1000\n",
      "29/44 [==================>...........] - ETA: 0s - loss: 0.9296 - accuracy: 0.6589\n",
      "Epoch 155: saving model to model/keypoint_classifier\\keypoint_classifier.keras\n",
      "44/44 [==============================] - 0s 3ms/step - loss: 0.9380 - accuracy: 0.6552 - val_loss: 0.5356 - val_accuracy: 0.8531\n",
      "Epoch 156/1000\n",
      "28/44 [==================>...........] - ETA: 0s - loss: 0.9539 - accuracy: 0.6585\n",
      "Epoch 156: saving model to model/keypoint_classifier\\keypoint_classifier.keras\n",
      "44/44 [==============================] - 0s 3ms/step - loss: 0.9623 - accuracy: 0.6513 - val_loss: 0.5150 - val_accuracy: 0.8633\n",
      "Epoch 157/1000\n",
      "29/44 [==================>...........] - ETA: 0s - loss: 0.9421 - accuracy: 0.6541\n",
      "Epoch 157: saving model to model/keypoint_classifier\\keypoint_classifier.keras\n",
      "44/44 [==============================] - 0s 3ms/step - loss: 0.9545 - accuracy: 0.6531 - val_loss: 0.5216 - val_accuracy: 0.8654\n",
      "Epoch 158/1000\n",
      "26/44 [================>.............] - ETA: 0s - loss: 0.9402 - accuracy: 0.6584\n",
      "Epoch 158: saving model to model/keypoint_classifier\\keypoint_classifier.keras\n",
      "44/44 [==============================] - 0s 4ms/step - loss: 0.9412 - accuracy: 0.6567 - val_loss: 0.5156 - val_accuracy: 0.8611\n",
      "Epoch 159/1000\n",
      "31/44 [====================>.........] - ETA: 0s - loss: 0.9207 - accuracy: 0.6656\n",
      "Epoch 159: saving model to model/keypoint_classifier\\keypoint_classifier.keras\n",
      "44/44 [==============================] - 0s 5ms/step - loss: 0.9389 - accuracy: 0.6615 - val_loss: 0.5160 - val_accuracy: 0.8595\n",
      "Epoch 160/1000\n",
      "18/44 [===========>..................] - ETA: 0s - loss: 0.9697 - accuracy: 0.6497\n",
      "Epoch 160: saving model to model/keypoint_classifier\\keypoint_classifier.keras\n",
      "44/44 [==============================] - 0s 4ms/step - loss: 0.9385 - accuracy: 0.6595 - val_loss: 0.5164 - val_accuracy: 0.8606\n",
      "Epoch 160: early stopping\n"
     ]
    },
    {
     "data": {
      "text/plain": [
       "<keras.src.callbacks.History at 0x2962fd91630>"
      ]
     },
     "execution_count": 150,
     "metadata": {},
     "output_type": "execute_result"
    }
   ],
   "source": [
    "model.fit(\n",
    "    X_train,\n",
    "    y_train,\n",
    "    epochs=1000,\n",
    "    batch_size=128,\n",
    "    validation_data=(X_test, y_test),\n",
    "    callbacks=[cp_callback, es_callback]\n",
    ")"
   ]
  },
  {
   "cell_type": "code",
   "execution_count": 151,
   "metadata": {
    "colab": {
     "base_uri": "https://localhost:8080/"
    },
    "id": "pxvb2Y299hE3",
    "outputId": "59eb3185-2e37-4b9e-bc9d-ab1b8ac29b7f"
   },
   "outputs": [
    {
     "name": "stdout",
     "output_type": "stream",
     "text": [
      "15/15 [==============================] - 0s 2ms/step - loss: 0.5164 - accuracy: 0.8606\n"
     ]
    }
   ],
   "source": [
    "# Model evaluation\n",
    "val_loss, val_acc = model.evaluate(X_test, y_test, batch_size=128)"
   ]
  },
  {
   "cell_type": "code",
   "execution_count": 152,
   "metadata": {
    "id": "RBkmDeUW9hE4"
   },
   "outputs": [],
   "source": [
    "# Loading the saved model\n",
    "model = tf.keras.models.load_model(model_save_path)"
   ]
  },
  {
   "cell_type": "code",
   "execution_count": 153,
   "metadata": {
    "colab": {
     "base_uri": "https://localhost:8080/"
    },
    "id": "tFz9Tb0I9hE4",
    "outputId": "1c3b3528-54ae-4ee2-ab04-77429211cbef"
   },
   "outputs": [
    {
     "name": "stdout",
     "output_type": "stream",
     "text": [
      "1/1 [==============================] - 0s 62ms/step\n",
      "[8.45162570e-02 2.04974953e-02 7.44837523e-03 2.84560844e-02\n",
      " 1.15389444e-01 2.66319007e-01 3.10807925e-04 4.66680080e-01\n",
      " 5.49358265e-05 1.55585597e-03 8.77161510e-03]\n",
      "7\n"
     ]
    }
   ],
   "source": [
    "# Inference test\n",
    "predict_result = model.predict(np.array([X_test[0]]))\n",
    "print(np.squeeze(predict_result))\n",
    "print(np.argmax(np.squeeze(predict_result)))"
   ]
  },
  {
   "cell_type": "markdown",
   "metadata": {
    "id": "S3U4yNWx9hE4"
   },
   "source": [
    "# Confusion matrix"
   ]
  },
  {
   "cell_type": "code",
   "execution_count": 154,
   "metadata": {
    "colab": {
     "base_uri": "https://localhost:8080/",
     "height": 582
    },
    "id": "AP1V6SCk9hE5",
    "outputId": "08e41a80-7a4a-4619-8125-ecc371368d19"
   },
   "outputs": [
    {
     "name": "stdout",
     "output_type": "stream",
     "text": [
      "59/59 [==============================] - 0s 2ms/step\n"
     ]
    },
    {
     "data": {
      "image/png": "[encoded data removed]",
      "text/plain": [
       "<Figure size 700x600 with 2 Axes>"
      ]
     },
     "metadata": {},
     "output_type": "display_data"
    },
    {
     "name": "stdout",
     "output_type": "stream",
     "text": [
      "Classification Report\n",
      "              precision    recall  f1-score   support\n",
      "\n",
      "           0       0.94      0.79      0.86       405\n",
      "           1       0.95      0.83      0.89       399\n",
      "           2       0.81      0.97      0.89       310\n",
      "           3       0.70      0.99      0.82        90\n",
      "           4       0.93      0.93      0.93        44\n",
      "           5       0.67      0.50      0.57        60\n",
      "           6       0.94      0.93      0.93        98\n",
      "           7       0.75      0.94      0.83       110\n",
      "           8       0.78      0.96      0.86       109\n",
      "           9       0.92      0.70      0.80        94\n",
      "          10       0.85      0.88      0.86       146\n",
      "\n",
      "    accuracy                           0.86      1865\n",
      "   macro avg       0.84      0.86      0.84      1865\n",
      "weighted avg       0.87      0.86      0.86      1865\n",
      "\n"
     ]
    }
   ],
   "source": [
    "import pandas as pd\n",
    "import seaborn as sns\n",
    "import matplotlib.pyplot as plt\n",
    "from sklearn.metrics import confusion_matrix, classification_report\n",
    "\n",
    "def print_confusion_matrix(y_true, y_pred, report=True):\n",
    "    labels = sorted(list(set(y_true)))\n",
    "    cmx_data = confusion_matrix(y_true, y_pred, labels=labels)\n",
    "    \n",
    "    df_cmx = pd.DataFrame(cmx_data, index=labels, columns=labels)\n",
    " \n",
    "    fig, ax = plt.subplots(figsize=(7, 6))\n",
    "    sns.heatmap(df_cmx, annot=True, fmt='g' ,square=False)\n",
    "    ax.set_ylim(len(set(y_true)), 0)\n",
    "    plt.show()\n",
    "    \n",
    "    if report:\n",
    "        print('Classification Report')\n",
    "        print(classification_report(y_test, y_pred))\n",
    "\n",
    "Y_pred = model.predict(X_test)\n",
    "y_pred = np.argmax(Y_pred, axis=1)\n",
    "\n",
    "print_confusion_matrix(y_test, y_pred)"
   ]
  },
  {
   "cell_type": "markdown",
   "metadata": {
    "id": "FNP6aqzc9hE5"
   },
   "source": [
    "# Convert to model for Tensorflow-Lite"
   ]
  },
  {
   "cell_type": "code",
   "execution_count": 155,
   "metadata": {
    "id": "ODjnYyld9hE6"
   },
   "outputs": [],
   "source": [
    "# Save as a model dedicated to inference\n",
    "model.save(model_save_path)"
   ]
  },
  {
   "cell_type": "code",
   "execution_count": 156,
   "metadata": {
    "colab": {
     "base_uri": "https://localhost:8080/"
    },
    "id": "zRfuK8Y59hE6",
    "outputId": "a4ca585c-b5d5-4244-8291-8674063209bb"
   },
   "outputs": [
    {
     "name": "stdout",
     "output_type": "stream",
     "text": [
      "WARNING:tensorflow:AutoGraph could not transform <function trace_model_call.<locals>._wrapped_model at 0x000002962FE35900> and will run it as-is.\n",
      "Cause: Unable to locate the source code of <function trace_model_call.<locals>._wrapped_model at 0x000002962FE35900>. Note that functions defined in certain environments, like the interactive Python shell, do not expose their source code. If that is the case, you should define them in a .py source file. If you are certain the code is graph-compatible, wrap the call using @tf.autograph.experimental.do_not_convert. Original error: could not get source code\n",
      "To silence this warning, decorate the function with @tf.autograph.experimental.do_not_convert\n"
     ]
    },
    {
     "name": "stderr",
     "output_type": "stream",
     "text": [
      "WARNING:tensorflow:AutoGraph could not transform <function trace_model_call.<locals>._wrapped_model at 0x000002962FE35900> and will run it as-is.\n",
      "Cause: Unable to locate the source code of <function trace_model_call.<locals>._wrapped_model at 0x000002962FE35900>. Note that functions defined in certain environments, like the interactive Python shell, do not expose their source code. If that is the case, you should define them in a .py source file. If you are certain the code is graph-compatible, wrap the call using @tf.autograph.experimental.do_not_convert. Original error: could not get source code\n",
      "To silence this warning, decorate the function with @tf.autograph.experimental.do_not_convert\n"
     ]
    },
    {
     "name": "stdout",
     "output_type": "stream",
     "text": [
      "WARNING: AutoGraph could not transform <function trace_model_call.<locals>._wrapped_model at 0x000002962FE35900> and will run it as-is.\n",
      "Cause: Unable to locate the source code of <function trace_model_call.<locals>._wrapped_model at 0x000002962FE35900>. Note that functions defined in certain environments, like the interactive Python shell, do not expose their source code. If that is the case, you should define them in a .py source file. If you are certain the code is graph-compatible, wrap the call using @tf.autograph.experimental.do_not_convert. Original error: could not get source code\n",
      "To silence this warning, decorate the function with @tf.autograph.experimental.do_not_convert\n"
     ]
    },
    {
     "name": "stdout",
     "output_type": "stream",
     "text": [
      "INFO:tensorflow:Assets written to: C:\\Users\\rvheb\\AppData\\Local\\Temp\\tmp1cfsdig_\\assets\n"
     ]
    },
    {
     "name": "stderr",
     "output_type": "stream",
     "text": [
      "INFO:tensorflow:Assets written to: C:\\Users\\rvheb\\AppData\\Local\\Temp\\tmp1cfsdig_\\assets\n"
     ]
    },
    {
     "data": {
      "text/plain": [
       "6912"
      ]
     },
     "execution_count": 156,
     "metadata": {},
     "output_type": "execute_result"
    }
   ],
   "source": [
    "# Transform model (quantization)\n",
    "\n",
    "converter = tf.lite.TFLiteConverter.from_keras_model(model)\n",
    "# converter.optimizations = [tf.lite.Optimize.DEFAULT]\n",
    "tflite_quantized_model = converter.convert()\n",
    "\n",
    "open(tflite_save_path, 'wb').write(tflite_quantized_model)"
   ]
  },
  {
   "cell_type": "markdown",
   "metadata": {
    "id": "CHBPBXdx9hE6"
   },
   "source": [
    "# Inference test"
   ]
  },
  {
   "cell_type": "code",
   "execution_count": 157,
   "metadata": {
    "id": "mGAzLocO9hE7"
   },
   "outputs": [],
   "source": [
    "interpreter = tf.lite.Interpreter(model_path=tflite_save_path)\n",
    "interpreter.allocate_tensors()"
   ]
  },
  {
   "cell_type": "code",
   "execution_count": 158,
   "metadata": {
    "id": "oQuDK8YS9hE7"
   },
   "outputs": [],
   "source": [
    "# Get I / O tensor\n",
    "input_details = interpreter.get_input_details()\n",
    "output_details = interpreter.get_output_details()"
   ]
  },
  {
   "cell_type": "code",
   "execution_count": 159,
   "metadata": {
    "id": "2_ixAf_l9hE7"
   },
   "outputs": [],
   "source": [
    "interpreter.set_tensor(input_details[0]['index'], np.array([X_test[0]]))"
   ]
  },
  {
   "cell_type": "code",
   "execution_count": 160,
   "metadata": {
    "colab": {
     "base_uri": "https://localhost:8080/"
    },
    "id": "s4FoAnuc9hE7",
    "outputId": "91f18257-8d8b-4ef3-c558-e9b5f94fabbf",
    "scrolled": true
   },
   "outputs": [
    {
     "name": "stdout",
     "output_type": "stream",
     "text": [
      "CPU times: total: 0 ns\n",
      "Wall time: 0 ns\n"
     ]
    }
   ],
   "source": [
    "%%time\n",
    "# Inference implementation\n",
    "interpreter.invoke()\n",
    "tflite_results = interpreter.get_tensor(output_details[0]['index'])"
   ]
  },
  {
   "cell_type": "code",
   "execution_count": 161,
   "metadata": {
    "colab": {
     "base_uri": "https://localhost:8080/"
    },
    "id": "vONjp19J9hE8",
    "outputId": "77205e24-fd00-42c4-f7b6-e06e527c2cba"
   },
   "outputs": [
    {
     "name": "stdout",
     "output_type": "stream",
     "text": [
      "[8.4516235e-02 2.0497506e-02 7.4483785e-03 2.8456070e-02 1.1538948e-01\n",
      " 2.6631898e-01 3.1080790e-04 4.6668008e-01 5.4935826e-05 1.5558559e-03\n",
      " 8.7716151e-03]\n",
      "7\n"
     ]
    }
   ],
   "source": [
    "print(np.squeeze(tflite_results))\n",
    "print(np.argmax(np.squeeze(tflite_results)))"
   ]
  }
 ],
 "metadata": {
  "accelerator": "GPU",
  "colab": {
   "collapsed_sections": [],
   "name": "keypoint_classification_EN.ipynb",
   "provenance": [],
   "toc_visible": true
  },
  "kernelspec": {
   "display_name": "Python 3 (ipykernel)",
   "language": "python",
   "name": "python3"
  },
  "language_info": {
   "codemirror_mode": {
    "name": "ipython",
    "version": 3
   },
   "file_extension": ".py",
   "mimetype": "text/x-python",
   "name": "python",
   "nbconvert_exporter": "python",
   "pygments_lexer": "ipython3",
   "version": "3.10.8"
  }
 },
 "nbformat": 4,
 "nbformat_minor": 4
}
